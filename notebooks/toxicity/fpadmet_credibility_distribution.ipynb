{
 "cells": [
  {
   "cell_type": "code",
   "execution_count": 1,
   "metadata": {},
   "outputs": [],
   "source": [
    "import pandas as pd\n",
    "import os\n",
    "import seaborn as sns\n",
    "import matplotlib.pyplot as plt\n",
    "from scipy.stats import chi2_contingency, contingency\n",
    "import matplotlib.patches as mpatches\n",
    "from matplotlib.colors import to_rgba"
   ]
  },
  {
   "cell_type": "code",
   "execution_count": 2,
   "metadata": {},
   "outputs": [],
   "source": [
    "ids_dictionary = {\n",
    "    1: \"Anticommensal Effect on\\n Human Gut Microbiota\",\n",
    "    2: \"Blood–brain-barrier penetration\",\n",
    "    3: \"Oral Bioavailability\",\n",
    "    4: \"AMES Mutagenecity\",\n",
    "    5: \"Metabolic Stability\",\n",
    "    6: \"Rat Acute LD50\",\n",
    "    7: \"Drug-Induced Liver Inhibition\",\n",
    "    8: \"HERG Cardiotoxicity\",\n",
    "    9: \"Haemolytic Toxicity\",\n",
    "    10: \"Myelotoxicity\",\n",
    "    11: \"Urinary Toxicity\",\n",
    "    12: \"Human Intestinal Absorption\",\n",
    "    13: \"Hepatic Steatosis\",\n",
    "    14: \"Breast Cancer Resistance Protein Inhibition\",\n",
    "    15: \"Drug-Induced Choleostasis\",\n",
    "    16: \"Human multidrug and toxin extrusion Inhibition\",\n",
    "    17: \"Toxic Myopathy\",\n",
    "    18: \"Phospholipidosis\",\n",
    "    19: \"Human Bile Salt Export Pump Inhibition\",\n",
    "    20: \"Organic anion transporting\\n polypeptide 1B1 binding\",\n",
    "    21: \"Organic anion transporting\\n polypeptide 1B3 binding\",\n",
    "    22: \"Organic anion transporting\\n polypeptide 2B1 binding\",\n",
    "    23: \"Phototoxicity human\",\n",
    "    24: \"Phototoxicity in vitro\",\n",
    "    25: \"Respiratory Toxicity\",\n",
    "    26: \"P-glycoprotein Inhibition\",\n",
    "    27: \"P-glycoprotein Substrate\",\n",
    "    28: \"Mitochondrial Toxicity\",\n",
    "    29: \"Carcinogenecity\",\n",
    "    30: \"DMSO Solubility\",\n",
    "    31: \"Human Liver Microsomal Stability\",\n",
    "    32: \"Human Plasma Protein Binding\",\n",
    "    33: \"hERG Liability\",\n",
    "    34: \"Organic Cation\\n Transporter 2 Inhibition\",\n",
    "    35: \"Drug-induced Ototoxicity\",\n",
    "    36: \"Rhabdomyolysis\",\n",
    "    37: \"T1/2 Human\",\n",
    "    38: \"T1/2 Mouse\",\n",
    "    39: \"T1/2 Rat\",\n",
    "    40: \"Cytotoxicity HepG2\",  # \"cell line\",\n",
    "    41: \"Cytotoxicity NIH 3T3\",  # \"cell line\",\n",
    "    42: \"Cytotoxicity HEK 293\",  # \"cell line\",\n",
    "    43: \"Cytotoxicity CRL-7250\",  # \"cell line\",\n",
    "    44: \"Cytotoxicity HaCat\",  # \"cell line\",\n",
    "    45: \"CYP450 1A2 Inhibition\",\n",
    "    46: \"CYP450 2C19 Inhibition\",\n",
    "    47: \"CYP450 2C9 Inhibition\",\n",
    "    48: \"CYP450 2D6 Inhibition\",\n",
    "    49: \"CYP450 3A4 Inhibition\",\n",
    "    50: \"pKa dissociation constant\",\n",
    "    51: \"logD Distribution \\ncoefficient (pH 7.4)\",\n",
    "    52: \"logS\",\n",
    "    53: \"Drug affinity to human serum albumin\",\n",
    "    54: \"MDCK permeability\",\n",
    "    55: \"50% hemolytic dose\",\n",
    "    56: \"Skin penetration\",\n",
    "    57: \"CYP450 2C8 Inhibition\",\n",
    "    58: \"Aqueous Solubility\",  # \"(in phosphate saline buffer)\",\n",
    "}"
   ]
  },
  {
   "cell_type": "code",
   "execution_count": 3,
   "metadata": {},
   "outputs": [],
   "source": [
    "coconut_folder = \"/home/ec2-user/np-clinical-trials/fpadmet_results/COCONUT\"\n",
    "dds_folder = \"/home/ec2-user/np-clinical-trials/fpadmet_results/DDS\""
   ]
  },
  {
   "cell_type": "code",
   "execution_count": 4,
   "metadata": {},
   "outputs": [],
   "source": [
    "def process_data(input_folder):\n",
    "    \"\"\"\n",
    "    While the confidence provides a measure of how likely a prediction is compared to all other possible classifications, the credibility measure (equal to the highest p-value of any one of the possible classifications being the true label) provides an indication of how good the training set is for classifying the given example.\n",
    "    \"\"\"\n",
    "    results_list, names_list = [], []\n",
    "    batch_dictionary = {}\n",
    "    for files in os.listdir(input_folder):\n",
    "        if not files.endswith(\".txt\") or not files.endswith(\"predicted.txt\"):\n",
    "            continue\n",
    "        toxicity_name = ids_dictionary[int(files.split(\"_\")[1].split(\".\")[0])]\n",
    "        opened_data = pd.read_csv(os.path.join(input_folder, files), sep=\"\\s+\")\n",
    "        opened_data[\"Category\"] = toxicity_name\n",
    "        if toxicity_name in batch_dictionary:\n",
    "            batch_dictionary[toxicity_name] = pd.concat(\n",
    "                [batch_dictionary[toxicity_name], opened_data], axis=0\n",
    "            )\n",
    "        else:\n",
    "            batch_dictionary[toxicity_name] = opened_data\n",
    "    for key in batch_dictionary:\n",
    "        results_list.append(batch_dictionary[key])\n",
    "        names_list.append(key)\n",
    "\n",
    "    all_metrics = pd.concat(results_list, axis=0)\n",
    "    return all_metrics, names_list"
   ]
  },
  {
   "cell_type": "code",
   "execution_count": 5,
   "metadata": {},
   "outputs": [],
   "source": [
    "coconut_data, coconut_columns = process_data(coconut_folder)"
   ]
  },
  {
   "cell_type": "code",
   "execution_count": 6,
   "metadata": {},
   "outputs": [],
   "source": [
    "synthethic_data, synthetic_columns = process_data(dds_folder)"
   ]
  },
  {
   "cell_type": "code",
   "execution_count": 7,
   "metadata": {},
   "outputs": [],
   "source": [
    "non_case_relevant_columns = [\n",
    "    \"T1/2 Human\",\n",
    "    \"T1/2 Mouse\",\n",
    "    \"T1/2 Rat\",\n",
    "    \"Rat Acute LD50\",\n",
    "    \"Human Plasma Protein Binding\",\n",
    "    \"Anticommensal Effect on\\n Human Gut Microbiota\",\n",
    "    \"Blood-brain-barrier penetration\",\n",
    "    \"P-glycoprotein Inhibition\",\n",
    "    \"P-glycoprotein Substrate\",\n",
    "    \"DMSO Solubility\",\n",
    "    \"Breast Cancer Resistance Protein Inhibition\",\n",
    "    \"Organic anion transporting\\n polypeptide 1B1 binding\",\n",
    "    \"Organic anion transporting\\n polypeptide 1B3 binding\",\n",
    "    \"Organic anion transporting\\n polypeptide 2B1 binding\",\n",
    "    \"Organic anion transporting\\n polypeptide 3B1 binding\",\n",
    "    \"Metabolic Stability\",\n",
    "    \"AMES Mutagenecity\",\n",
    "    \"Oral Bioavailability\",\n",
    "    \"Human intestinal absortion\",\n",
    "    \"Organic Cation\\n Transporter 2 Inhibition\",\n",
    "]"
   ]
  },
  {
   "cell_type": "code",
   "execution_count": 8,
   "metadata": {},
   "outputs": [],
   "source": [
    "usable_columns = [x for x in coconut_columns if x not in non_case_relevant_columns]"
   ]
  },
  {
   "cell_type": "code",
   "execution_count": 9,
   "metadata": {},
   "outputs": [],
   "source": [
    "coconut_data = coconut_data.loc[coconut_data[\"Category\"].isin(usable_columns)].dropna(\n",
    "    subset=[\"Credibility\"]\n",
    ")\n",
    "synthethic_data = synthethic_data.loc[\n",
    "    synthethic_data[\"Category\"].isin(usable_columns)\n",
    "].dropna(subset=[\"Credibility\"])"
   ]
  },
  {
   "cell_type": "code",
   "execution_count": 10,
   "metadata": {},
   "outputs": [],
   "source": [
    "coconut_data[\"source\"] = \"COCONUT\"\n",
    "synthethic_data[\"source\"] = \"DDS\"\n",
    "joint_data = pd.concat([coconut_data, synthethic_data], axis=0)"
   ]
  },
  {
   "cell_type": "code",
   "execution_count": 14,
   "metadata": {},
   "outputs": [
    {
     "name": "stderr",
     "output_type": "stream",
     "text": [
      "/home/ec2-user/np-clinical-trials/.venv/lib/python3.9/site-packages/seaborn/_oldcore.py:1119: FutureWarning: use_inf_as_na option is deprecated and will be removed in a future version. Convert inf values to NaN before operating instead.\n",
      "  with pd.option_context('mode.use_inf_as_na', True):\n",
      "/home/ec2-user/np-clinical-trials/.venv/lib/python3.9/site-packages/seaborn/_oldcore.py:1075: FutureWarning: When grouping with a length-1 list-like, you will need to pass a length-1 tuple to get_group in a future version of pandas. Pass `(name,)` instead of `name` to silence this warning.\n",
      "  data_subset = grouped_data.get_group(pd_key)\n",
      "/home/ec2-user/np-clinical-trials/.venv/lib/python3.9/site-packages/seaborn/_oldcore.py:1075: FutureWarning: When grouping with a length-1 list-like, you will need to pass a length-1 tuple to get_group in a future version of pandas. Pass `(name,)` instead of `name` to silence this warning.\n",
      "  data_subset = grouped_data.get_group(pd_key)\n",
      "/home/ec2-user/np-clinical-trials/.venv/lib/python3.9/site-packages/seaborn/_oldcore.py:1075: FutureWarning: When grouping with a length-1 list-like, you will need to pass a length-1 tuple to get_group in a future version of pandas. Pass `(name,)` instead of `name` to silence this warning.\n",
      "  data_subset = grouped_data.get_group(pd_key)\n",
      "/home/ec2-user/np-clinical-trials/.venv/lib/python3.9/site-packages/seaborn/_oldcore.py:1075: FutureWarning: When grouping with a length-1 list-like, you will need to pass a length-1 tuple to get_group in a future version of pandas. Pass `(name,)` instead of `name` to silence this warning.\n",
      "  data_subset = grouped_data.get_group(pd_key)\n"
     ]
    },
    {
     "data": {
      "text/plain": [
       "<Axes: xlabel='Credibility', ylabel='Density'>"
      ]
     },
     "execution_count": 14,
     "metadata": {},
     "output_type": "execute_result"
    },
    {
     "data": {
      "image/png": "[encoded data removed]",
      "text/plain": [
       "<Figure size 640x480 with 1 Axes>"
      ]
     },
     "metadata": {},
     "output_type": "display_data"
    }
   ],
   "source": [
    "sns.histplot(\n",
    "    joint_data,\n",
    "    x=\"Credibility\",\n",
    "    hue=\"source\",\n",
    "    element=\"step\",\n",
    "    common_norm=True,\n",
    "    stat=\"density\",\n",
    "    bins=20,\n",
    ")"
   ]
  }
 ],
 "metadata": {
  "kernelspec": {
   "display_name": ".venv",
   "language": "python",
   "name": "python3"
  },
  "language_info": {
   "codemirror_mode": {
    "name": "ipython",
    "version": 3
   },
   "file_extension": ".py",
   "mimetype": "text/x-python",
   "name": "python",
   "nbconvert_exporter": "python",
   "pygments_lexer": "ipython3",
   "version": "3.9.16"
  }
 },
 "nbformat": 4,
 "nbformat_minor": 2
}
